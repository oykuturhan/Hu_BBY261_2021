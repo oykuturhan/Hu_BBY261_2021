{
  "cells": [
    {
      "cell_type": "markdown",
      "metadata": {
        "id": "view-in-github",
        "colab_type": "text"
      },
      "source": [
        "<a href=\"https://colab.research.google.com/github/oykuturhan/Hu_BBY261_2021/blob/projeler/BBY_261_Fiinal.ipynb\" target=\"_parent\"><img src=\"https://colab.research.google.com/assets/colab-badge.svg\" alt=\"Open In Colab\"/></a>"
      ]
    },
    {
      "cell_type": "code",
      "execution_count": 4,
      "metadata": {
        "colab": {
          "base_uri": "https://localhost:8080/",
          "height": 632
        },
        "id": "vYWEIVPtz9-6",
        "outputId": "9e3f7ff2-7903-4e3c-ec19-983536a7e5ee"
      },
      "outputs": [
        {
          "output_type": "stream",
          "name": "stdout",
          "text": [
            "8\n",
            "x_train shape: (60000, 28, 28, 1)\n",
            "Number of images in x_train 60000\n",
            "Number of images in x_test 10000\n",
            "Epoch 1/5\n",
            "1875/1875 [==============================] - 35s 18ms/step - loss: 0.2057 - accuracy: 0.9370\n",
            "Epoch 2/5\n",
            "1875/1875 [==============================] - 34s 18ms/step - loss: 0.0828 - accuracy: 0.9745\n",
            "Epoch 3/5\n",
            "1875/1875 [==============================] - 34s 18ms/step - loss: 0.0576 - accuracy: 0.9815\n",
            "Epoch 4/5\n",
            "1875/1875 [==============================] - 34s 18ms/step - loss: 0.0445 - accuracy: 0.9854\n",
            "Epoch 5/5\n",
            "1875/1875 [==============================] - 35s 19ms/step - loss: 0.0352 - accuracy: 0.9883\n",
            "313/313 [==============================] - 2s 7ms/step - loss: 0.0539 - accuracy: 0.9837\n",
            "WARNING:tensorflow:5 out of the last 7 calls to <function Model.make_predict_function.<locals>.predict_function at 0x7f01cb6cf560> triggered tf.function retracing. Tracing is expensive and the excessive number of tracings could be due to (1) creating @tf.function repeatedly in a loop, (2) passing tensors with different shapes, (3) passing Python objects instead of tensors. For (1), please define your @tf.function outside of the loop. For (2), @tf.function has experimental_relax_shapes=True option that relaxes argument shapes that can avoid unnecessary retracing. For (3), please refer to https://www.tensorflow.org/guide/function#controlling_retracing and https://www.tensorflow.org/api_docs/python/tf/function for  more details.\n",
            "7\n",
            "WARNING:tensorflow:6 out of the last 8 calls to <function Model.make_predict_function.<locals>.predict_function at 0x7f01cb6cf560> triggered tf.function retracing. Tracing is expensive and the excessive number of tracings could be due to (1) creating @tf.function repeatedly in a loop, (2) passing tensors with different shapes, (3) passing Python objects instead of tensors. For (1), please define your @tf.function outside of the loop. For (2), @tf.function has experimental_relax_shapes=True option that relaxes argument shapes that can avoid unnecessary retracing. For (3), please refer to https://www.tensorflow.org/guide/function#controlling_retracing and https://www.tensorflow.org/api_docs/python/tf/function for  more details.\n",
            "[[0. 0. 0. 1. 0. 0. 0. 0. 0. 0.]]\n",
            "[3]\n"
          ]
        },
        {
          "output_type": "display_data",
          "data": {
            "image/png": "[encoded data removed]",
            "text/plain": [
              "<Figure size 432x288 with 1 Axes>"
            ]
          },
          "metadata": {
            "needs_background": "light"
          }
        }
      ],
      "source": [
        "import tensorflow as tf\n",
        "(x_train, y_train), (x_test, y_test) = tf.keras.datasets.mnist.load_data()\n",
        "\n",
        "import matplotlib.pyplot as plt\n",
        "%matplotlib inline \n",
        "image_index = 7777 # You may select anything up to 60,000\n",
        "print(y_train[image_index]) # The label is 8\n",
        "plt.imshow(x_train[image_index], cmap='Greys')\n",
        "\n",
        "x_train.shape\n",
        "\n",
        "# Reshaping the array to 4-dims so that it can work with the Keras API\n",
        "x_train = x_train.reshape(x_train.shape[0], 28, 28, 1)\n",
        "x_test = x_test.reshape(x_test.shape[0], 28, 28, 1)\n",
        "input_shape = (28, 28, 1)\n",
        "# Making sure that the values are float so that we can get decimal points after division\n",
        "x_train = x_train.astype('float32')\n",
        "x_test = x_test.astype('float32')\n",
        "# Normalizing the RGB codes by dividing it to the max RGB value.\n",
        "x_train /= 255\n",
        "x_test /= 255\n",
        "print('x_train shape:', x_train.shape)\n",
        "print('Number of images in x_train', x_train.shape[0])\n",
        "print('Number of images in x_test', x_test.shape[0])\n",
        "\n",
        "# Importing the required Keras modules containing model and layers\n",
        "from tensorflow.keras.models import Sequential\n",
        "from tensorflow.keras.layers import Dense, Conv2D, Dropout, Flatten, MaxPooling2D\n",
        "# Creating a Sequential Model and adding the layers\n",
        "model = Sequential()\n",
        "model.add(Conv2D(28, kernel_size=(3,3), input_shape=input_shape))\n",
        "model.add(MaxPooling2D(pool_size=(2, 2)))\n",
        "model.add(Flatten()) # Flattening the 2D arrays for fully connected layers\n",
        "model.add(Dense(128, activation=tf.nn.relu))\n",
        "model.add(Dropout(0.2))\n",
        "model.add(Dense(10,activation=tf.nn.softmax))\n",
        "\n",
        "model.compile(optimizer='adam', \n",
        "              loss='sparse_categorical_crossentropy', \n",
        "              metrics=['accuracy'])\n",
        "model.fit(x=x_train,y=y_train, epochs=5)\n",
        "\n",
        "model.evaluate(x_test, y_test)\n",
        "\n",
        "image_index = 0\n",
        "plt.imshow(x_test[image_index].reshape(28, 28),cmap='Greys')\n",
        "pred = model.predict(x_test[image_index].reshape(1, 28, 28, 1))\n",
        "print(pred.argmax())\n",
        "\n",
        "#PNG = \"/content/drive/MyDrive\"\n",
        "\n",
        "from PIL import Image\n",
        "import numpy as np\n",
        "\n",
        "png = Image.open(\"/content/drive/MyDrive/üç.png\").convert (\"L\")\n",
        "png = np.resize(png, (28, 28, 1))\n",
        "pngBinary = np.array(png)\n",
        "plt.imshow(pngBinary.reshape(28, 28))\n",
        "\n",
        "tahminEt = model.predict(pngBinary.reshape(1, 28, 28, 1))\n",
        "tahminSayı = np.argmax(model.predict(pngBinary.reshape(1, 28, 28, 1)), axis=-1)\n",
        "\n",
        "print(tahminEt)\n",
        "print(tahminSayı)"
      ]
    },
    {
      "cell_type": "code",
      "execution_count": null,
      "metadata": {
        "id": "n526rL_vbqTz"
      },
      "outputs": [],
      "source": [
        "from google.colab import drive\n",
        "drive.mount('/content/drive')"
      ]
    }
  ],
  "metadata": {
    "colab": {
      "name": "BBY_261_Fiinal.ipynb",
      "provenance": [],
      "mount_file_id": "16DOXAQ1pAuul8tiFTXVf-AXZMU_9H_AZ",
      "authorship_tag": "ABX9TyNjZtReIWjy9KWeRwKc9rvo",
      "include_colab_link": true
    },
    "kernelspec": {
      "display_name": "Python 3",
      "name": "python3"
    },
    "language_info": {
      "name": "python"
    }
  },
  "nbformat": 4,
  "nbformat_minor": 0
}