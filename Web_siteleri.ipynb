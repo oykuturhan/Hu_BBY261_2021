{
  "nbformat": 4,
  "nbformat_minor": 0,
  "metadata": {
    "colab": {
      "name": "Web_siteleri",
      "provenance": [],
      "collapsed_sections": [],
      "mount_file_id": "11-ES9f0N9CabmF5jDbGsWA5XSFZvFeEO",
      "authorship_tag": "ABX9TyPwkSq+MwwOjDh2ylWmKQJP",
      "include_colab_link": true
    },
    "kernelspec": {
      "name": "python3",
      "display_name": "Python 3"
    },
    "language_info": {
      "name": "python"
    }
  },
  "cells": [
    {
      "cell_type": "markdown",
      "metadata": {
        "id": "view-in-github",
        "colab_type": "text"
      },
      "source": [
        "<a href=\"https://colab.research.google.com/github/oykuturhan/Hu_BBY261_2021/blob/projeler/Web_siteleri.ipynb\" target=\"_parent\"><img src=\"https://colab.research.google.com/assets/colab-badge.svg\" alt=\"Open In Colab\"/></a>"
      ]
    },
    {
      "cell_type": "code",
      "metadata": {
        "id": "HW1I5NkzyCAH",
        "colab": {
          "base_uri": "https://localhost:8080/"
        },
        "outputId": "d7971556-8973-49d2-cd9b-f4436defa040"
      },
      "source": [
        "def anaMenu():\n",
        "  \n",
        "  islem = input(\"1 - Adresleri yazınız \\n2 - Çıkış Yapınız\\n \")\n",
        "  if islem == \"1\":\n",
        "    cekmeFonk()\n",
        "  elif islem == \"2\":\n",
        "    cikis()\n",
        "  else:\n",
        "    print(\"Seçiminiz hatalı!\")\n",
        "    adresYaz\n",
        "anaMenu()\n",
        "\n",
        "def cekmeFonk():\n",
        "  import urllib.request\n",
        "  from bs4 import BeautifulSoup\n",
        "  print(\"işlem seçiniz!!\")\n",
        "  webSite = urllib.request.urlopen( input(\"Adres Giriniz: \") )\n",
        "  komut = input(\"Adres yazdır(1), Başlık göster(2)\")\n",
        "  if komut == \"1\":\n",
        "    dosya= \"/content/drive/MyDrive/URL.txt\"\n",
        "    f = open(dosya,'a')\n",
        "    f.write(str(webSite) + \"\\n__________________________________________________\\n\")\n",
        "    f.close()\n",
        "  elif komut == \"2\":\n",
        "    getBytes = webSite.read()\n",
        "    webSayfası = getBytes.decode(\"utf8\")\n",
        "    webSite.close()\n",
        "    soup = BeautifulSoup(webSayfası, 'html.parser')\n",
        "    print(soup.title.contents)\n",
        "    dosya2= \"/content/drive/MyDrive/BAŞLIK.txt\"\n",
        "    f = open(dosya2, \"a\")\n",
        "    f.write(str(soup.title.contents) +\"\\n\")\n",
        "    f.close()\n",
        "  else:\n",
        "    print(\"Hatalı İşlem!\")\n",
        "    cekmeFonk()\n",
        "\n",
        "def cikis():\n",
        "  cikisYapma = input(\"Çıkışı onaylıyor musunuz?: \\n(1 - Evet\\n2 - Hayır) \")\n",
        "  if cikisYapma == 1:\n",
        "    print(\"Çıkış yaptınız.\")\n",
        "  elif cikisYapma == 2:\n",
        "    print(\"Çıkış iptal edildi.\")\n",
        "    anaMenu()\n",
        "\n",
        "anaMenu()\n",
        "\n",
        "\n"
      ],
      "execution_count": 58,
      "outputs": [
        {
          "output_type": "stream",
          "name": "stdout",
          "text": [
            "1 - Adresleri yazınız \n",
            "2 - Çıkış Yapınız\n",
            " 1\n",
            "işlem seçiniz!!\n",
            "Adres Giriniz: https://colab.research.google.com/drive/11-ES9f0N9CabmF5jDbGsWA5XSFZvFeEO#scrollTo=HW1I5NkzyCAH\n",
            "Adres yazdır(1), Başlık göster(2)2\n",
            "['Google Colab']\n",
            "1 - Adresleri yazınız \n",
            "2 - Çıkış Yapınız\n",
            " 1\n",
            "işlem seçiniz!!\n",
            "Adres Giriniz: https://drive.google.com/drive/u/0/my-drive\n",
            "Adres yazdır(1), Başlık göster(2)2\n",
            "['Meet Google Drive – One place for all your files']\n"
          ]
        }
      ]
    }
  ]
}